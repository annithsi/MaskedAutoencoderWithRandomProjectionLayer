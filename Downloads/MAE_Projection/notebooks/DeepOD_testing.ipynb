{
  "cells": [
    {
      "cell_type": "code",
      "source": [
        "pip install deepod"
      ],
      "metadata": {
        "id": "Sa0Jy9tC8hlb"
      },
      "execution_count": null,
      "outputs": []
    },
    {
      "cell_type": "code",
      "source": [
        "!git clone https://github.com/xuhongzuo/DeepOD.git"
      ],
      "metadata": {
        "id": "MxxHchm08k-5"
      },
      "execution_count": null,
      "outputs": []
    },
    {
      "cell_type": "code",
      "source": [
        "import os\n",
        "os.chdir('DeepOD')\n",
        "\n",
        "!pip install ."
      ],
      "metadata": {
        "id": "ZkMLUNmK9L8v"
      },
      "execution_count": null,
      "outputs": []
    },
    {
      "cell_type": "code",
      "source": [
        "import numpy as np\n",
        "import matplotlib.pyplot as plt"
      ],
      "metadata": {
        "id": "BUD0cb_o-KsY"
      },
      "execution_count": null,
      "outputs": []
    },
    {
      "cell_type": "code",
      "source": [
        "# unsupervised methods\n",
        "from deepod.models.tabular import DeepSVDD\n",
        "\n",
        "# create a random np array with 101 samples and 5 features\n",
        "X_train = np.random.rand(101,5)\n",
        "\n",
        "# Set every 20th sample to all 0s.\n",
        "# This is done to make it look as an anomaly.\n",
        "X_train[20::20] = np.zeros(5)\n",
        "\n",
        "# Train the linear classifier.\n",
        "clf = DeepSVDD(device='cpu')\n",
        "clf.fit(X_train, y=None)"
      ],
      "metadata": {
        "colab": {
          "base_uri": "https://localhost:8080/"
        },
        "id": "TV4_RMtL9j80",
        "outputId": "7f441285-5fbc-4d9d-98c9-e07957b2249e"
      },
      "execution_count": null,
      "outputs": [
        {
          "output_type": "stream",
          "name": "stdout",
          "text": [
            "Start Training...\n",
            "ensemble size: 1\n",
            "MLPnet(\n",
            "  (network): Sequential(\n",
            "    (0): LinearBlock(\n",
            "      (linear): Linear(in_features=5, out_features=100, bias=False)\n",
            "      (act_layer): ReLU()\n",
            "    )\n",
            "    (1): LinearBlock(\n",
            "      (linear): Linear(in_features=100, out_features=50, bias=False)\n",
            "      (act_layer): ReLU()\n",
            "    )\n",
            "    (2): LinearBlock(\n",
            "      (linear): Linear(in_features=50, out_features=128, bias=False)\n",
            "      (act_layer): Identity()\n",
            "    )\n",
            "  )\n",
            ")\n",
            "epoch  1, training loss: 0.577420, time: 0.0s\n",
            "epoch 10, training loss: 0.136864, time: 0.0s\n",
            "epoch 20, training loss: 0.120688, time: 0.0s\n",
            "epoch 30, training loss: 0.093328, time: 0.0s\n",
            "epoch 40, training loss: 0.097196, time: 0.0s\n",
            "epoch 50, training loss: 0.086671, time: 0.0s\n",
            "epoch 60, training loss: 0.098880, time: 0.0s\n",
            "epoch 70, training loss: 0.084475, time: 0.0s\n",
            "epoch 80, training loss: 0.087180, time: 0.0s\n",
            "epoch 90, training loss: 0.089104, time: 0.0s\n",
            "epoch100, training loss: 0.095840, time: 0.0s\n",
            "Start Inference on the training data...\n"
          ]
        },
        {
          "output_type": "stream",
          "name": "stderr",
          "text": [
            "testing: 100%|██████████| 2/2 [00:00<00:00, 153.95it/s]\n"
          ]
        },
        {
          "output_type": "execute_result",
          "data": {
            "text/plain": [
              "<deepod.models.tabular.dsvdd.DeepSVDD at 0x79ec1dcc4e50>"
            ]
          },
          "metadata": {},
          "execution_count": 5
        }
      ]
    },
    {
      "cell_type": "markdown",
      "source": [
        "Here is the definition of the \"decision scores\" as defined in their documentation:\n",
        "\n",
        "The outlier scores of the training data.\n",
        "The higher, the more abnormal. Outliers tend to have higher\n",
        "scores. This value is available once the detector is\n",
        "fitted."
      ],
      "metadata": {
        "id": "6Y5S2yk7EEOJ"
      }
    },
    {
      "cell_type": "code",
      "source": [
        "scores = clf.decision_function(X_train)\n",
        "plt.bar(range(len(scores)),scores)\n",
        "plt.xlabel('sample')\n",
        "plt.ylabel('decision scores')\n",
        "plt.show()"
      ],
      "metadata": {
        "colab": {
          "base_uri": "https://localhost:8080/",
          "height": 466
        },
        "id": "ZTR9p4HK-GIH",
        "outputId": "70c0d791-73e1-4599-fdfe-9a83fe28a49d"
      },
      "execution_count": null,
      "outputs": [
        {
          "output_type": "stream",
          "name": "stderr",
          "text": [
            "testing: 100%|██████████| 2/2 [00:00<00:00, 153.35it/s]\n"
          ]
        },
        {
          "output_type": "display_data",
          "data": {
            "text/plain": [
              "<Figure size 640x480 with 1 Axes>"
            ],
            "image/png": "[encoded data removed]"
          },
          "metadata": {}
        }
      ]
    },
    {
      "cell_type": "markdown",
      "source": [
        "In the plot above you can see that every 20th sample has a high anomaly score. This is as expected since we had masked (set to all 0s) every 20th sample."
      ],
      "metadata": {
        "id": "VF04fXnADq4A"
      }
    }
  ],
  "metadata": {
    "colab": {
      "provenance": []
    },
    "kernelspec": {
      "display_name": "Python 3",
      "name": "python3"
    }
  },
  "nbformat": 4,
  "nbformat_minor": 0
}